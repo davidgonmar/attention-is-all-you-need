{
 "cells": [
  {
   "cell_type": "code",
   "execution_count": null,
   "metadata": {},
   "outputs": [],
   "source": [
    "from model import PositionalEncoding\n",
    "import matplotlib.pyplot as plt\n",
    "\n",
    "positional_encoding = PositionalEncoding(d_model=512, seq_len=100, dropout=0.1)\n",
    "\n",
    "\n",
    "plt.figure(figsize=(10, 5))\n",
    "plt.pcolormesh(\n",
    "    positional_encoding.pos_encoding.detach().numpy(), cmap=\"viridis\")\n",
    "plt.xlabel(\"Embedding Dimensions\")\n",
    "plt.xlim((0, 512))\n",
    "plt.ylabel(\"Sequence Position\")\n",
    "plt.colorbar()\n",
    "plt.show()"
   ]
  },
  {
   "cell_type": "code",
   "execution_count": null,
   "metadata": {},
   "outputs": [],
   "source": [
    "from config import get_config_no_parser\n",
    "from model import Transformer\n",
    "from dataset import get_tokenizer, get_dataset\n",
    "import torch\n",
    "\n",
    "config_path = \"configs/laptop_wmt14.yaml\"\n",
    "\n",
    "ds_config, model_config, _, _ = get_config_no_parser(config_path)\n",
    "\n",
    "src_dataset, tgt_dataset = get_dataset(ds_config, model_config)\n",
    "src_tokenizer = get_tokenizer(\n",
    "    src_dataset, ds_config.src_lang, model_config.src_vocab_size\n",
    ")\n",
    "tgt_tokenizer = get_tokenizer(\n",
    "    tgt_dataset, ds_config.tgt_lang, model_config.tgt_vocab_size\n",
    ")\n",
    "model = Transformer.from_config(model_config)"
   ]
  },
  {
   "cell_type": "code",
   "execution_count": null,
   "metadata": {},
   "outputs": [],
   "source": [
    "phrase = \"<s> Yesterday I went to the park. </s>\"\n",
    "src = torch.tensor(src_tokenizer.encode(phrase).ids).unsqueeze(0)\n",
    "\n",
    "tgt = torch.tensor(tgt_tokenizer.encode(\"<s>\").ids).unsqueeze(0)\n",
    "output = model(src, tgt, None, None)\n",
    "\n",
    "print(\"Decoded output:\", tgt_tokenizer.decode(\n",
    "    output.argmax(dim=-1).squeeze(0).tolist()))\n",
    "\n",
    "tokens = src_tokenizer.encode(phrase).tokens"
   ]
  },
  {
   "cell_type": "code",
   "execution_count": null,
   "metadata": {},
   "outputs": [],
   "source": [
    "\n",
    "\n",
    "def plot_layer(layer, tokens):\n",
    "    num_heads = model_config.num_heads\n",
    "    num_cols = 2\n",
    "    num_rows = (num_heads + num_cols - 1) // num_cols\n",
    "    fig, axes = plt.subplots(num_rows, num_cols, figsize=(15, 5*num_rows))\n",
    "\n",
    "    attn_scores = layer.multi_head_attention.attn_scores.squeeze(\n",
    "        0).detach().numpy()\n",
    "\n",
    "    fig.subplots_adjust(hspace=0.5)\n",
    "\n",
    "    for n_head in range(num_heads):\n",
    "        row = n_head // num_cols\n",
    "        col = n_head % num_cols\n",
    "\n",
    "        ax = axes[row, col]\n",
    "\n",
    "        ax.pcolormesh(attn_scores[n_head], cmap=\"viridis\")\n",
    "        ax.set_xlabel(\"Key\")\n",
    "        ax.set_ylabel(\"Query\")\n",
    "        ax.set_title(f\"Attention Matrix - Head {n_head+1}\")\n",
    "\n",
    "        ax.set_xticks(range(len(tokens)))\n",
    "        ax.set_xticklabels(tokens, rotation=90)\n",
    "        ax.set_yticks(range(len(tokens)))\n",
    "        ax.set_yticklabels(tokens)\n",
    "\n",
    "        fig.colorbar(ax.pcolormesh(attn_scores[n_head], cmap=\"viridis\"), ax=ax)\n",
    "\n",
    "    plt.show()"
   ]
  },
  {
   "cell_type": "code",
   "execution_count": null,
   "metadata": {},
   "outputs": [],
   "source": [
    "N = 3\n",
    "plot_layer(model.encoder.layers[N], tokens)\n"
   ]
  },
  {
   "cell_type": "code",
   "execution_count": null,
   "metadata": {},
   "outputs": [],
   "source": []
  }
 ],
 "metadata": {
  "kernelspec": {
   "display_name": "pytorch",
   "language": "python",
   "name": "python3"
  },
  "language_info": {
   "codemirror_mode": {
    "name": "ipython",
    "version": 3
   },
   "file_extension": ".py",
   "mimetype": "text/x-python",
   "name": "python",
   "nbconvert_exporter": "python",
   "pygments_lexer": "ipython3",
   "version": "3.11.5"
  }
 },
 "nbformat": 4,
 "nbformat_minor": 2
}
